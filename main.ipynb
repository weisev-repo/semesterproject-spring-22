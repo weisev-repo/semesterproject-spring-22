{
 "cells": [
  {
   "cell_type": "code",
   "execution_count": 18,
   "id": "f64fd618-b64c-42fc-947e-fad50f77c5b6",
   "metadata": {},
   "outputs": [],
   "source": [
    "from utils.library import *\n",
    "from utils import encoder\n",
    "from utils import decoder\n",
    "from utils import autoencoder\n",
    "from utils import generate_callback"
   ]
  },
  {
   "cell_type": "code",
   "execution_count": null,
   "id": "326b2126-bcf7-48f3-8a83-3cc9ce10159e",
   "metadata": {},
   "outputs": [],
   "source": []
  },
  {
   "cell_type": "code",
   "execution_count": 14,
   "id": "d098b32d-a2b2-4c0b-b19d-05e408aabe22",
   "metadata": {},
   "outputs": [],
   "source": []
  },
  {
   "cell_type": "code",
   "execution_count": 5,
   "id": "17e02b5c-cdad-4455-b728-6263017ab3e1",
   "metadata": {},
   "outputs": [
    {
     "name": "stdout",
     "output_type": "stream",
     "text": [
      "[1 3 4 5]\n"
     ]
    }
   ],
   "source": []
  }
 ],
 "metadata": {
  "kernelspec": {
   "display_name": "Python 3 (ipykernel)",
   "language": "python",
   "name": "python3"
  },
  "language_info": {
   "codemirror_mode": {
    "name": "ipython",
    "version": 3
   },
   "file_extension": ".py",
   "mimetype": "text/x-python",
   "name": "python",
   "nbconvert_exporter": "python",
   "pygments_lexer": "ipython3",
   "version": "3.8.12"
  }
 },
 "nbformat": 4,
 "nbformat_minor": 5
}
